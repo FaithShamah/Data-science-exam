{
 "cells": [
  {
   "cell_type": "markdown",
   "id": "f3c57d74-80ee-467c-9537-a2eb6a3ab946",
   "metadata": {},
   "source": [
    "3. Linear regression aims to predict a continuous target variable by finding the best-fit linear relation-\n",
    "ship between the target and the input features. The algorithm models the relationship using a linear\n",
    "\n",
    "equation: y = β0 + β1x + ε, where; y is the dependent variable, β’s are the coefficients (weights),\n",
    "x’s are the independent variables, ε is the error term. The goal is to find the coefficients (β’s) that\n",
    "minimize the difference between the predicted values and the actual values. This is typically done by\n",
    "minimizing the Mean Squared Error (MSE):\n",
    "MSE =\n",
    "1\n",
    "n\n",
    "Xn\n",
    "i=1\n",
    "(y − y)\n",
    "2\n",
    "\n",
    "(1)\n",
    "\n",
    "(a) Briefly describe the steps involved in fitting a linear regression in Python? (2 marks)\n",
    "(b) What assumptions does the linear regression take into consideration? (3 marks)\n",
    "\n",
    "(c) Using the 2020 US Census dataset, train a simple linear regression predicting a continuous tar-\n",
    "get variable using the scikit-learn library. From the output coefficients, generate an equation\n",
    "\n",
    "representing the trained simple linear regression? (3 amrks)\n",
    "(d) Compute the Mean Absolute Error (MSE) from your model. (2 marks)\n",
    "(e) Extract and interprete the key outputs from a linear regression model (5 marks)\n",
    "(f) Plot the linear"
   ]
  },
  {
   "cell_type": "markdown",
   "id": "8a356acd-c53d-44d7-b294-49ca1786f665",
   "metadata": {},
   "source": [
    "a)"
   ]
  },
  {
   "cell_type": "code",
   "execution_count": 1,
   "id": "a2a8bd27-4788-42cc-91b8-885fce46fbf0",
   "metadata": {},
   "outputs": [],
   "source": [
    "# Linear regression is a fundamental concept in computer science and machine learning.\n",
    "# It is widely used supervised learning algorithm primarily employed for regression tasks.\n",
    "# Definition:Linear regression refers to a statistical method used to model the relationship\n",
    "# between a dependent variable and one or more independent variables."
   ]
  },
  {
   "cell_type": "code",
   "execution_count": 2,
   "id": "484380fd-ca16-4139-be14-6d1967b16e5d",
   "metadata": {},
   "outputs": [],
   "source": [
    "# The following are the steps involved in fitting a linear regression in python.\n",
    "\n",
    "# 1. Import the necessary libraries.\n",
    "    #Import libraries that is pandas for data manipulation.\n",
    "    #Numpy for numerical operations.\n",
    "    #sklearn.linear_model for the linear regression model.\n",
    "\n",
    "# Example:\n",
    "\n",
    "# import pandas as pd\n",
    "# from sklearn.linear_model import LinearRegression\n",
    "# from sklearn.model_selection import train_test_split\n",
    "# from sklearn.metrics import mean_squared_error\n",
    "\n",
    "# 2. Load and prepare the data: Load the dataset (usually in CSV or other formats) into\n",
    "   # a Pandas DataFrame. Split the data into input features (X) and the target variable (y).\n",
    "\n",
    "# data = pd.read_csv('dataset.csv')\n",
    "# X = data[['feature1', 'feature2']]  # Independent variables\n",
    "# y = data['target']  # Dependent variable\n",
    "\n",
    "# 3. Split the data (optional):\n",
    "\n",
    "# Split the data into training and testing sets using train_test_split from sklearn.model_selection.\n",
    "# This helps in evaluating the model’s performance.\n",
    "\n",
    "# from sklearn.model_selection import train_test_split\n",
    "# X_train, X_test, y_train, y_test = train_test_split(X, y, test_size=0.2, random_state=42)\n",
    "\n",
    "# 4. Create the linear regression model:\n",
    "\n",
    "# Instantiate a LinearRegression object.\n",
    "# python\n",
    "# Copy code\n",
    "\n",
    "#model = LinearRegression()\n",
    "\n",
    "# 5. Fit the model:\n",
    "\n",
    "# Fit the model to the training data using the .fit() method, which will find the best-fit \n",
    "# coefficients (β’s) that minimize the error.\n",
    "\n",
    "# model.fit(X_train, y_train)\n",
    "\n",
    "# 7. Make predictions:\n",
    "\n",
    "# After training the model,it is used to make predictions on new or test data.\n",
    "\n",
    "# y_pred = model.predict(X_test)\n",
    "\n",
    "# 8. Evaluate the model:\n",
    "\n",
    "# Evaluating the model's performance using metrics such as Mean Squared Error (MSE) or R² score.\n",
    "\n",
    "# from sklearn.metrics import mean_squared_error\n",
    "# mse = mean_squared_error(y_test, y_pred)"
   ]
  },
  {
   "cell_type": "markdown",
   "id": "df553387-e253-4ff0-bb2b-6d025e57e59b",
   "metadata": {},
   "source": [
    "b)"
   ]
  },
  {
   "cell_type": "code",
   "execution_count": 3,
   "id": "a5764cd7-2aef-4156-a109-3b5b8e8541f1",
   "metadata": {},
   "outputs": [],
   "source": [
    "# The following are the assumptions that the linear regression takes into consideration;\n",
    "\n",
    "    # Linearity : There should be a linear relationship between the independent variables and the dependent\n",
    "#variables and the independent variable. \n",
    "\n",
    "    #Independence of errors : The errors should be independent of each other.\n",
    "\n",
    "    #Homoscedasticity : The variance of the errors should remain constant across all levels of the independent\n",
    "#variables.\n",
    "\n",
    "    #No multicollinearity : The independent variables should not be highly correlated with each other.\n",
    "\n",
    "    #Normality of errors : The errors should follow a normal distribution."
   ]
  },
  {
   "cell_type": "code",
   "execution_count": null,
   "id": "30fad6a3-4346-4b42-9aeb-f404d197412b",
   "metadata": {},
   "outputs": [],
   "source": []
  }
 ],
 "metadata": {
  "kernelspec": {
   "display_name": "Python 3 (ipykernel)",
   "language": "python",
   "name": "python3"
  },
  "language_info": {
   "codemirror_mode": {
    "name": "ipython",
    "version": 3
   },
   "file_extension": ".py",
   "mimetype": "text/x-python",
   "name": "python",
   "nbconvert_exporter": "python",
   "pygments_lexer": "ipython3",
   "version": "3.12.5"
  }
 },
 "nbformat": 4,
 "nbformat_minor": 5
}
