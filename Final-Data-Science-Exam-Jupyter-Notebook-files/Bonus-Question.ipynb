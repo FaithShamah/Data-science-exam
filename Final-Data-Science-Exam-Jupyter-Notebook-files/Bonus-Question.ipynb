{
 "cells": [
  {
   "cell_type": "code",
   "execution_count": 41,
   "id": "48dc6328-ea62-47e5-bd5a-4e82c659d639",
   "metadata": {},
   "outputs": [],
   "source": [
    "# 4. Bonus Question.\n",
    "# (a) Multiply a 5x3 matrix by a 3x2 matrix (real matrix product) (Hint: create a 5x3 and 3x2 matrices\n",
    "# and peform matrix multiplication).\n",
    "# (b) Create a 3x3 identity matrix\n",
    "# (c) Create a vector with values ranging from 10 to 49).\n",
    "# (d) Create a null vector of size 10.\n",
    "# (e) Create a 3x3x3 array with random values\n",
    "\n",
    "# (f) Create a 5x5 matrix with values 1,2,3,4 just below the diagonal\n",
    "# (g) Normalize a 5x5 random matrix\n",
    "# (h) How to get the dates of yesterday, today and tomorrow?\n",
    "# (i) Find indices of non-zero elements from [1,2,0,0,4,0]. In all the above questions explain your\n",
    "# approach."
   ]
  },
  {
   "cell_type": "code",
   "execution_count": null,
   "id": "9e827525-cf1d-4a42-928d-9363c4f09877",
   "metadata": {},
   "outputs": [],
   "source": [
    "#My resource of work was google, W3 schools, classwork notebooks and lessons, mathematical computing practical lessons, and the notes files for data science."
   ]
  },
  {
   "cell_type": "markdown",
   "id": "3b92395e-b450-498d-8826-ff81ebf1ef76",
   "metadata": {},
   "source": [
    "a)"
   ]
  },
  {
   "cell_type": "code",
   "execution_count": 1,
   "id": "1d1cb952-9575-4d63-b56c-a15bea098bc0",
   "metadata": {},
   "outputs": [
    {
     "name": "stdout",
     "output_type": "stream",
     "text": [
      "The product of matrix x and matix y is: [[ 31  36]\n",
      " [ 58  69]\n",
      " [ 40  57]\n",
      " [112 135]\n",
      " [139 168]]\n"
     ]
    }
   ],
   "source": [
    "#To approach this question,i have started by creating a 5*3 matrix and a 3*2 matrix that\n",
    "#i am going to assign variables to .\n",
    "#But before this,first i am going to import libraries to use that is numpy.\n",
    "#numpy(Numerical Python in full)is a python library that is used to perform mathematical \n",
    "#operations on matrices,arrays among others.\n",
    "#It is also used in machine learning,data analysis among others.\n",
    "#Datetime and timedelta are python's built-in datetime modules,used for manupulating dates and times.\n",
    "import numpy as np\n",
    "from datetime import datetime, timedelta\n",
    "x=np.array([[2,3,4]  #i have assigned my first matrix(5*3) with a variable 'x'\n",
    "            ,[5,6,7]\n",
    "            ,[8,9,1]\n",
    "            ,[11,12,13]\n",
    "            ,[14,15,16]])\n",
    "y=np.array([[1,2]      #then assigned my second matrix(3*2) with a variable 'y'\n",
    "            ,[3,4]\n",
    "            ,[5,5]])\n",
    "#matrix multiplication(dot product) (multiplying the (5*3) matrix 'x' with the (3*2)  matrix 'y'\n",
    "z=np.dot(x, y)   #My product of matrices 'x' and 'y' is 'z' (i have assigned my product with the variable 'z')\n",
    "print('The product of matrix x and matix y is:', z)   #Printing the product to get the answer"
   ]
  },
  {
   "cell_type": "code",
   "execution_count": 2,
   "id": "20ddba19-dece-42d0-9374-1aae96b0a26c",
   "metadata": {},
   "outputs": [
    {
     "name": "stdout",
     "output_type": "stream",
     "text": [
      "The 3*3 identity matrix is:\n",
      " [[1. 0. 0.]\n",
      " [0. 1. 0.]\n",
      " [0. 0. 1.]]\n"
     ]
    }
   ],
   "source": [
    "#b) Create a 3*3 identity matrix\n",
    "#An identity matrix refers to the square matrix(with same number of rows and columns) with all  its main\n",
    "#diagonals as '1' and other elements as '0'.\n",
    "#To create the identity matrix, i have to assign a variable to my identitymatrix, i have assigned it to 'I' \n",
    "#used the command np.eye(),then enter the number of rows and columns i want the identity matrix to have in the \n",
    "#brackets which is '3'\n",
    "I = np.eye(3)\n",
    "print('The 3*3 identity matrix is:\\n',I)"
   ]
  },
  {
   "cell_type": "code",
   "execution_count": 3,
   "id": "4d768481-40ab-4180-8d5c-564c464b8369",
   "metadata": {},
   "outputs": [
    {
     "name": "stdout",
     "output_type": "stream",
     "text": [
      "The vector with values ranging from 10 to 49 is:\n",
      " [10 11 12 13 14 15 16 17 18 19 20 21 22 23 24 25 26 27 28 29 30 31 32 33\n",
      " 34 35 36 37 38 39 40 41 42 43 44 45 46 47 48 49]\n"
     ]
    }
   ],
   "source": [
    "#C) Create a vector with values ranging from 10 to 49\n",
    "#A vector is a list of numbers in jupyter notebook.\n",
    "vector = np.arange(10,50)  #start is '10' and stop is '50'\n",
    "print('The vector with values ranging from 10 to 49 is:\\n',vector)"
   ]
  },
  {
   "cell_type": "code",
   "execution_count": 4,
   "id": "11cdfb17-e5d5-4ca2-b328-62afeda20904",
   "metadata": {},
   "outputs": [
    {
     "name": "stdout",
     "output_type": "stream",
     "text": [
      "The null vector with size 10 is:\n",
      " [0. 0. 0. 0. 0. 0. 0. 0. 0. 0.]\n"
     ]
    }
   ],
   "source": [
    "#d) Create a null vector with size 10\n",
    "# A null vector is a list of numbers where all elements are zeros\n",
    "null_vector = np.zeros(10)\n",
    "print('The null vector with size 10 is:\\n', null_vector)"
   ]
  },
  {
   "cell_type": "code",
   "execution_count": 5,
   "id": "11336554-a232-4864-969b-e3b5dc6bd934",
   "metadata": {},
   "outputs": [
    {
     "name": "stdout",
     "output_type": "stream",
     "text": [
      "The 3*3*3 random array with random values is:\n",
      " [[[0.09743971 0.03829608 0.668546  ]\n",
      "  [0.16544267 0.12725193 0.01909807]\n",
      "  [0.45766368 0.74761464 0.15506722]]\n",
      "\n",
      " [[0.36761741 0.30283188 0.63632497]\n",
      "  [0.0750478  0.5024375  0.48116921]\n",
      "  [0.22618221 0.77552289 0.36376974]]\n",
      "\n",
      " [[0.81467911 0.8947753  0.55325196]\n",
      "  [0.99003173 0.66382711 0.50108203]\n",
      "  [0.22345159 0.38122821 0.94376759]]]\n"
     ]
    }
   ],
   "source": [
    "#e) Create a 3*3*3 array with random values\n",
    "#A 3x3x3 array with random values is a three-dimensional (3D) numpy array that has 3 layers (along the first \n",
    "#axis), each containing a 3x3 matrix with random values between 0 and 1 (unless otherwise specified).\n",
    "#I am going to use the function np.random.rand() to generate an array with random values.\n",
    "random_array = np.random.rand(3,3,3)\n",
    "print('The 3*3*3 random array with random values is:\\n',random_array)"
   ]
  },
  {
   "cell_type": "code",
   "execution_count": 6,
   "id": "84bd2c58-92f2-4e9a-b663-2e009a14cdf7",
   "metadata": {},
   "outputs": [
    {
     "name": "stdout",
     "output_type": "stream",
     "text": [
      "The 5*5 matrix with values 1,2,3,4 just below the diagonal is:\n",
      " [[0 0 0 0 0]\n",
      " [1 0 0 0 0]\n",
      " [0 2 0 0 0]\n",
      " [0 0 3 0 0]\n",
      " [0 0 0 4 0]]\n"
     ]
    }
   ],
   "source": [
    "#f) Create a 5x5 matrix with values 1,2,3,4 just below the diagonal\n",
    "#I am going to use the np.diag() function that is used to create a matrix from a list or an array,\n",
    "#where the values in the list (or array) are placed along a specified diagonal of a square matrix.\n",
    "matrix_below_diag = np.diag([1,2,3,4], -1)  #5*5 matrix with values [1,2,3,4] below the diagonal\n",
    "print('The 5*5 matrix with values 1,2,3,4 just below the diagonal is:\\n',matrix_below_diag)"
   ]
  },
  {
   "cell_type": "code",
   "execution_count": 7,
   "id": "4d8a2c87-bf91-4cc9-862e-97a7780c2887",
   "metadata": {},
   "outputs": [
    {
     "name": "stdout",
     "output_type": "stream",
     "text": [
      "The normalized 5*5 random matrix is:\n",
      " [[0.21719237 0.8841038  0.87428382 1.         0.40133009]\n",
      " [0.11128458 0.9591636  0.47916223 0.0747917  0.13559209]\n",
      " [0.23148715 0.23083979 0.25680475 0.55683499 0.30788544]\n",
      " [0.10708774 0.36370643 0.18881932 0.99254727 0.2843095 ]\n",
      " [0.29167739 0.47599616 0.28001243 0.98438167 0.3134071 ]]\n"
     ]
    }
   ],
   "source": [
    "#g) Normalize a 5x5 random matrix\n",
    "#I am going to use the function np.random.random((5, 5)),that creates a 5x5 matrix (array) filled with \n",
    "#random floating-point numbers between 0 and 1.\n",
    "#Normalization involves dividing each element by the maximum value of the matrix, so that the largest value\n",
    "#becomes 1 and all other values are proportionally scaled.\n",
    "random_matrix = np.random.random((5,5))\n",
    "normalized_matrix = random_matrix / np.max(random_matrix)  # normalized 5*5 random matrix\n",
    "print('The normalized 5*5 random matrix is:\\n',normalized_matrix)"
   ]
  },
  {
   "cell_type": "code",
   "execution_count": 8,
   "id": "fec77fdd-a64c-427e-a0b9-01cb52f4f8dd",
   "metadata": {},
   "outputs": [
    {
     "name": "stdout",
     "output_type": "stream",
     "text": [
      "The date of yesterday was:\n",
      " 2024-12-09\n",
      "The date of today is:\n",
      " 2024-12-10\n",
      "The date of tomorrow will be:\n",
      " 2024-12-11\n"
     ]
    }
   ],
   "source": [
    "#h) How to get the dates of yesterday, today and tomorrow?\n",
    "today = datetime.today().date()\n",
    "yesterday = today - timedelta(days=1)\n",
    "tomorrow = today + timedelta(days=1)\n",
    "print('The date of yesterday was:\\n', yesterday)  #Yesterday's date\n",
    "print('The date of today is:\\n', today)   #Today's date\n",
    "print('The date of tomorrow will be:\\n', tomorrow)  #Tomorrow's date\n"
   ]
  },
  {
   "cell_type": "code",
   "execution_count": 9,
   "id": "fcbd18a8-f027-4bc2-948f-d01f017d83e6",
   "metadata": {},
   "outputs": [
    {
     "name": "stdout",
     "output_type": "stream",
     "text": [
      "The indices of non-zero elements from [1,2,0,0,4,0] are:\n",
      " [0 1 4]\n"
     ]
    }
   ],
   "source": [
    "#(i) Find indices of non-zero elements from [1,2,0,0,4,0]. In all the above questions explain your\n",
    "#approach.\n",
    "array = np.array([1,2,0,0,4,0]) #This line creates a NumPy array with the values [1, 2, 0, 0, 4, 0].\n",
    "                                #The array contains 6 elements, some of which are non-zero (1, 2, 4),\n",
    "                                #while others are zero (0)\n",
    "non_zero_indices = np.nonzero(array)[0] #np.nonzero() is a NumPy function that returns the indices of\n",
    "                                        #the elements in the array that are non-zero.\n",
    "print('The indices of non-zero elements from [1,2,0,0,4,0] are:\\n',non_zero_indices)  #Indices of non-zeroelements in [1,2,0,0,4,0]"
   ]
  }
 ],
 "metadata": {
  "kernelspec": {
   "display_name": "Python 3 (ipykernel)",
   "language": "python",
   "name": "python3"
  },
  "language_info": {
   "codemirror_mode": {
    "name": "ipython",
    "version": 3
   },
   "file_extension": ".py",
   "mimetype": "text/x-python",
   "name": "python",
   "nbconvert_exporter": "python",
   "pygments_lexer": "ipython3",
   "version": "3.12.5"
  }
 },
 "nbformat": 4,
 "nbformat_minor": 5
}
